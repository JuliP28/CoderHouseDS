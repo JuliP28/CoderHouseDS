{
 "cells": [
  {
   "cell_type": "markdown",
   "metadata": {
    "id": "ad0d139f"
   },
   "source": [
    "# <b> Modelo de árbol de decisión y logistica"
   ]
  },
  {
   "cell_type": "markdown",
   "metadata": {
    "id": "91a0daf9"
   },
   "source": [
    "   \n",
    "**Fuentes para el AC:** <br> [Caso Estudio N°1](https://docs.google.com/document/d/1ox7lQjpZkmhQCbwEHBXTSVO7M-hNkq0ulFgALy6Mvyw/edit?usp=sharing) <br> [dataset](https://drive.google.com/file/d/1nrKbIYKSOmP1o7_oQMiaFoJFeEYUUcHg/view?usp=sharing)\n"
   ]
  },
  {
   "cell_type": "code",
   "execution_count": 119,
   "metadata": {
    "id": "3b74f13f"
   },
   "outputs": [],
   "source": [
    "import warnings\n",
    "warnings.filterwarnings(\"ignore\")\n",
    "\n",
    "# manejo de data\n",
    "import pandas as pd\n",
    "pd.options.display.max_columns = 100\n",
    "pd.options.display.float_format = '{:.3f}'.format\n",
    "\n",
    "# visualizaciones\n",
    "import matplotlib.pyplot as plt\n",
    "import seaborn as sns\n"
   ]
  },
  {
   "cell_type": "markdown",
   "metadata": {
    "id": "2e517f84"
   },
   "source": [
    "## Data"
   ]
  },
  {
   "cell_type": "markdown",
   "metadata": {
    "id": "563028a6"
   },
   "source": [
    "Para simplicidad en la consulta, se proporciona diccionario de descripciones de campos."
   ]
  },
  {
   "cell_type": "code",
   "execution_count": 120,
   "metadata": {
    "id": "099d6622"
   },
   "outputs": [],
   "source": [
    "d_desc = {'age':'Edad del cliente o de la persona.','job':'Tipo de trabajo del cliente o persona.',\n",
    "          'marital':'Estado civil del cliente o persona.','education':'Nivel educativo del cliente o persona.',\n",
    "          'default':'Tiene un crédito en mora el cliente o persona.? ','housing':'Tiene un crédito hipotecario el cliente o persona.?',\n",
    "          'loan':'Tiene un crédito personal el cliente o persona.? ','contact':'Tipo de canal de comunicación para contactarlo? ',\n",
    "          'month':'Ultimo mes de contacto?','day_of_week':'Ultimo dia de la semana de contacto? ',\n",
    "          'duration':'Duración de la llamada o del contacto.','campaign':'Número de contactos para el ofrecimiento de la actual campaña. ',\n",
    "          'pdays':'Número de días que pasan desde la última gestión en campañas. ','previous':'Número de contactos para el ofrecimiento antes de la actual campaña. ',\n",
    "          'poutcome':'Ultima tipificación de aceptación en campaña.','emp.var.rate':'Tasa de variación del empleo. ',\n",
    "          'cons.price.idx':'Indice de precios al consumidor.','cons.conf.idx':'Indice de confianza al consumidor.',\n",
    "          'euribor3m':'Ratio de tipo de cambio medio en los últimos 3 meses. ','nr.employed':'Número de empleados.',\n",
    "            'y':'¿El cliente se ha suscrito al producto financiero?'}"
   ]
  },
  {
   "cell_type": "markdown",
   "metadata": {
    "id": "948b6788"
   },
   "source": [
    "Cargamos el dataset:"
   ]
  },
  {
   "cell_type": "code",
   "execution_count": 121,
   "metadata": {
    "id": "a1e1d81e",
    "outputId": "cb990ed6-535b-4abc-d2ba-07136bbe6931"
   },
   "outputs": [
    {
     "data": {
      "text/html": [
       "<div>\n",
       "<style scoped>\n",
       "    .dataframe tbody tr th:only-of-type {\n",
       "        vertical-align: middle;\n",
       "    }\n",
       "\n",
       "    .dataframe tbody tr th {\n",
       "        vertical-align: top;\n",
       "    }\n",
       "\n",
       "    .dataframe thead th {\n",
       "        text-align: right;\n",
       "    }\n",
       "</style>\n",
       "<table border=\"1\" class=\"dataframe\">\n",
       "  <thead>\n",
       "    <tr style=\"text-align: right;\">\n",
       "      <th></th>\n",
       "      <th>age</th>\n",
       "      <th>job</th>\n",
       "      <th>marital</th>\n",
       "      <th>education</th>\n",
       "      <th>default</th>\n",
       "      <th>housing</th>\n",
       "      <th>loan</th>\n",
       "      <th>contact</th>\n",
       "      <th>month</th>\n",
       "      <th>day_of_week</th>\n",
       "      <th>duration</th>\n",
       "      <th>campaign</th>\n",
       "      <th>pdays</th>\n",
       "      <th>previous</th>\n",
       "      <th>poutcome</th>\n",
       "      <th>emp.var.rate</th>\n",
       "      <th>cons.price.idx</th>\n",
       "      <th>cons.conf.idx</th>\n",
       "      <th>euribor3m</th>\n",
       "      <th>nr.employed</th>\n",
       "      <th>y</th>\n",
       "    </tr>\n",
       "  </thead>\n",
       "  <tbody>\n",
       "    <tr>\n",
       "      <th>0</th>\n",
       "      <td>56</td>\n",
       "      <td>housemaid</td>\n",
       "      <td>married</td>\n",
       "      <td>basic.4y</td>\n",
       "      <td>no</td>\n",
       "      <td>no</td>\n",
       "      <td>no</td>\n",
       "      <td>telephone</td>\n",
       "      <td>may</td>\n",
       "      <td>mon</td>\n",
       "      <td>261</td>\n",
       "      <td>1</td>\n",
       "      <td>999</td>\n",
       "      <td>0</td>\n",
       "      <td>nonexistent</td>\n",
       "      <td>1.100</td>\n",
       "      <td>93.994</td>\n",
       "      <td>-36.400</td>\n",
       "      <td>4.857</td>\n",
       "      <td>5191.000</td>\n",
       "      <td>no</td>\n",
       "    </tr>\n",
       "    <tr>\n",
       "      <th>1</th>\n",
       "      <td>57</td>\n",
       "      <td>services</td>\n",
       "      <td>married</td>\n",
       "      <td>high.school</td>\n",
       "      <td>unknown</td>\n",
       "      <td>no</td>\n",
       "      <td>no</td>\n",
       "      <td>telephone</td>\n",
       "      <td>may</td>\n",
       "      <td>mon</td>\n",
       "      <td>149</td>\n",
       "      <td>1</td>\n",
       "      <td>999</td>\n",
       "      <td>0</td>\n",
       "      <td>nonexistent</td>\n",
       "      <td>1.100</td>\n",
       "      <td>93.994</td>\n",
       "      <td>-36.400</td>\n",
       "      <td>4.857</td>\n",
       "      <td>5191.000</td>\n",
       "      <td>no</td>\n",
       "    </tr>\n",
       "    <tr>\n",
       "      <th>2</th>\n",
       "      <td>37</td>\n",
       "      <td>services</td>\n",
       "      <td>married</td>\n",
       "      <td>high.school</td>\n",
       "      <td>no</td>\n",
       "      <td>yes</td>\n",
       "      <td>no</td>\n",
       "      <td>telephone</td>\n",
       "      <td>may</td>\n",
       "      <td>mon</td>\n",
       "      <td>226</td>\n",
       "      <td>1</td>\n",
       "      <td>999</td>\n",
       "      <td>0</td>\n",
       "      <td>nonexistent</td>\n",
       "      <td>1.100</td>\n",
       "      <td>93.994</td>\n",
       "      <td>-36.400</td>\n",
       "      <td>4.857</td>\n",
       "      <td>5191.000</td>\n",
       "      <td>no</td>\n",
       "    </tr>\n",
       "    <tr>\n",
       "      <th>3</th>\n",
       "      <td>40</td>\n",
       "      <td>admin.</td>\n",
       "      <td>married</td>\n",
       "      <td>basic.6y</td>\n",
       "      <td>no</td>\n",
       "      <td>no</td>\n",
       "      <td>no</td>\n",
       "      <td>telephone</td>\n",
       "      <td>may</td>\n",
       "      <td>mon</td>\n",
       "      <td>151</td>\n",
       "      <td>1</td>\n",
       "      <td>999</td>\n",
       "      <td>0</td>\n",
       "      <td>nonexistent</td>\n",
       "      <td>1.100</td>\n",
       "      <td>93.994</td>\n",
       "      <td>-36.400</td>\n",
       "      <td>4.857</td>\n",
       "      <td>5191.000</td>\n",
       "      <td>no</td>\n",
       "    </tr>\n",
       "    <tr>\n",
       "      <th>4</th>\n",
       "      <td>56</td>\n",
       "      <td>services</td>\n",
       "      <td>married</td>\n",
       "      <td>high.school</td>\n",
       "      <td>no</td>\n",
       "      <td>no</td>\n",
       "      <td>yes</td>\n",
       "      <td>telephone</td>\n",
       "      <td>may</td>\n",
       "      <td>mon</td>\n",
       "      <td>307</td>\n",
       "      <td>1</td>\n",
       "      <td>999</td>\n",
       "      <td>0</td>\n",
       "      <td>nonexistent</td>\n",
       "      <td>1.100</td>\n",
       "      <td>93.994</td>\n",
       "      <td>-36.400</td>\n",
       "      <td>4.857</td>\n",
       "      <td>5191.000</td>\n",
       "      <td>no</td>\n",
       "    </tr>\n",
       "  </tbody>\n",
       "</table>\n",
       "</div>"
      ],
      "text/plain": [
       "   age        job  marital    education  default housing loan    contact  \\\n",
       "0   56  housemaid  married     basic.4y       no      no   no  telephone   \n",
       "1   57   services  married  high.school  unknown      no   no  telephone   \n",
       "2   37   services  married  high.school       no     yes   no  telephone   \n",
       "3   40     admin.  married     basic.6y       no      no   no  telephone   \n",
       "4   56   services  married  high.school       no      no  yes  telephone   \n",
       "\n",
       "  month day_of_week  duration  campaign  pdays  previous     poutcome  \\\n",
       "0   may         mon       261         1    999         0  nonexistent   \n",
       "1   may         mon       149         1    999         0  nonexistent   \n",
       "2   may         mon       226         1    999         0  nonexistent   \n",
       "3   may         mon       151         1    999         0  nonexistent   \n",
       "4   may         mon       307         1    999         0  nonexistent   \n",
       "\n",
       "   emp.var.rate  cons.price.idx  cons.conf.idx  euribor3m  nr.employed   y  \n",
       "0         1.100          93.994        -36.400      4.857     5191.000  no  \n",
       "1         1.100          93.994        -36.400      4.857     5191.000  no  \n",
       "2         1.100          93.994        -36.400      4.857     5191.000  no  \n",
       "3         1.100          93.994        -36.400      4.857     5191.000  no  \n",
       "4         1.100          93.994        -36.400      4.857     5191.000  no  "
      ]
     },
     "execution_count": 121,
     "metadata": {},
     "output_type": "execute_result"
    }
   ],
   "source": [
    "df = pd.read_csv('BankMarketing.csv', sep=';')\n",
    "df.head()"
   ]
  },
  {
   "cell_type": "code",
   "execution_count": 122,
   "metadata": {
    "id": "6fad3a05",
    "outputId": "0c25dd08-5e8c-4b02-b2c7-d5ccbb98dda3"
   },
   "outputs": [
    {
     "data": {
      "text/plain": [
       "(41188, 21)"
      ]
     },
     "execution_count": 122,
     "metadata": {},
     "output_type": "execute_result"
    }
   ],
   "source": [
    "# vimos que son 41188 registros y 21 columnas\n",
    "df.shape"
   ]
  },
  {
   "cell_type": "markdown",
   "metadata": {
    "id": "31fbc1b2"
   },
   "source": [
    "## Procesamiento y Selección de variables  \n",
    "Con el fin de correr nuestro primer modelo, sólo seleccionaremos en una primera instancia las variables numéricas y la variable objetivo.\n",
    "    \n",
    "Nota: Luego de darse el módulo de ingeniería de variables se ondará en métodos e ideas para la selección de variables y se incluirán las categóricas."
   ]
  },
  {
   "cell_type": "code",
   "execution_count": 123,
   "metadata": {
    "id": "ae07f095",
    "outputId": "819f8ee9-d03a-441b-8df4-e953d890bb7d"
   },
   "outputs": [
    {
     "data": {
      "text/html": [
       "<div>\n",
       "<style scoped>\n",
       "    .dataframe tbody tr th:only-of-type {\n",
       "        vertical-align: middle;\n",
       "    }\n",
       "\n",
       "    .dataframe tbody tr th {\n",
       "        vertical-align: top;\n",
       "    }\n",
       "\n",
       "    .dataframe thead th {\n",
       "        text-align: right;\n",
       "    }\n",
       "</style>\n",
       "<table border=\"1\" class=\"dataframe\">\n",
       "  <thead>\n",
       "    <tr style=\"text-align: right;\">\n",
       "      <th></th>\n",
       "      <th>age</th>\n",
       "      <th>duration</th>\n",
       "      <th>campaign</th>\n",
       "      <th>pdays</th>\n",
       "      <th>previous</th>\n",
       "      <th>emp.var.rate</th>\n",
       "      <th>cons.price.idx</th>\n",
       "      <th>cons.conf.idx</th>\n",
       "      <th>euribor3m</th>\n",
       "      <th>nr.employed</th>\n",
       "      <th>y</th>\n",
       "    </tr>\n",
       "  </thead>\n",
       "  <tbody>\n",
       "    <tr>\n",
       "      <th>0</th>\n",
       "      <td>56</td>\n",
       "      <td>261</td>\n",
       "      <td>1</td>\n",
       "      <td>999</td>\n",
       "      <td>0</td>\n",
       "      <td>1.100</td>\n",
       "      <td>93.994</td>\n",
       "      <td>-36.400</td>\n",
       "      <td>4.857</td>\n",
       "      <td>5191.000</td>\n",
       "      <td>no</td>\n",
       "    </tr>\n",
       "    <tr>\n",
       "      <th>1</th>\n",
       "      <td>57</td>\n",
       "      <td>149</td>\n",
       "      <td>1</td>\n",
       "      <td>999</td>\n",
       "      <td>0</td>\n",
       "      <td>1.100</td>\n",
       "      <td>93.994</td>\n",
       "      <td>-36.400</td>\n",
       "      <td>4.857</td>\n",
       "      <td>5191.000</td>\n",
       "      <td>no</td>\n",
       "    </tr>\n",
       "    <tr>\n",
       "      <th>2</th>\n",
       "      <td>37</td>\n",
       "      <td>226</td>\n",
       "      <td>1</td>\n",
       "      <td>999</td>\n",
       "      <td>0</td>\n",
       "      <td>1.100</td>\n",
       "      <td>93.994</td>\n",
       "      <td>-36.400</td>\n",
       "      <td>4.857</td>\n",
       "      <td>5191.000</td>\n",
       "      <td>no</td>\n",
       "    </tr>\n",
       "    <tr>\n",
       "      <th>3</th>\n",
       "      <td>40</td>\n",
       "      <td>151</td>\n",
       "      <td>1</td>\n",
       "      <td>999</td>\n",
       "      <td>0</td>\n",
       "      <td>1.100</td>\n",
       "      <td>93.994</td>\n",
       "      <td>-36.400</td>\n",
       "      <td>4.857</td>\n",
       "      <td>5191.000</td>\n",
       "      <td>no</td>\n",
       "    </tr>\n",
       "    <tr>\n",
       "      <th>4</th>\n",
       "      <td>56</td>\n",
       "      <td>307</td>\n",
       "      <td>1</td>\n",
       "      <td>999</td>\n",
       "      <td>0</td>\n",
       "      <td>1.100</td>\n",
       "      <td>93.994</td>\n",
       "      <td>-36.400</td>\n",
       "      <td>4.857</td>\n",
       "      <td>5191.000</td>\n",
       "      <td>no</td>\n",
       "    </tr>\n",
       "  </tbody>\n",
       "</table>\n",
       "</div>"
      ],
      "text/plain": [
       "   age  duration  campaign  pdays  previous  emp.var.rate  cons.price.idx  \\\n",
       "0   56       261         1    999         0         1.100          93.994   \n",
       "1   57       149         1    999         0         1.100          93.994   \n",
       "2   37       226         1    999         0         1.100          93.994   \n",
       "3   40       151         1    999         0         1.100          93.994   \n",
       "4   56       307         1    999         0         1.100          93.994   \n",
       "\n",
       "   cons.conf.idx  euribor3m  nr.employed   y  \n",
       "0        -36.400      4.857     5191.000  no  \n",
       "1        -36.400      4.857     5191.000  no  \n",
       "2        -36.400      4.857     5191.000  no  \n",
       "3        -36.400      4.857     5191.000  no  \n",
       "4        -36.400      4.857     5191.000  no  "
      ]
     },
     "execution_count": 123,
     "metadata": {},
     "output_type": "execute_result"
    }
   ],
   "source": [
    "df_num = df.select_dtypes('number')\n",
    "df_num['y'] = df['y']\n",
    "df_num.head()"
   ]
  },
  {
   "cell_type": "code",
   "execution_count": 124,
   "metadata": {
    "id": "02071c5f",
    "outputId": "e35e31c7-05c7-426d-e4c1-986964dc2f71"
   },
   "outputs": [
    {
     "data": {
      "text/plain": [
       "Index(['age', 'job', 'marital', 'education', 'default', 'housing', 'loan',\n",
       "       'contact', 'month', 'day_of_week', 'duration', 'campaign', 'pdays',\n",
       "       'previous', 'poutcome', 'emp.var.rate', 'cons.price.idx',\n",
       "       'cons.conf.idx', 'euribor3m', 'nr.employed', 'y'],\n",
       "      dtype='object')"
      ]
     },
     "execution_count": 124,
     "metadata": {},
     "output_type": "execute_result"
    }
   ],
   "source": [
    "df.columns"
   ]
  },
  {
   "cell_type": "markdown",
   "metadata": {
    "id": "db45aa54"
   },
   "source": [
    "### Valores duplicados:"
   ]
  },
  {
   "cell_type": "code",
   "execution_count": 11,
   "metadata": {
    "id": "d5b5fa4b",
    "outputId": "0a2bf398-013e-4018-a577-6c4954c89305"
   },
   "outputs": [
    {
     "data": {
      "text/plain": [
       "41188"
      ]
     },
     "execution_count": 11,
     "metadata": {},
     "output_type": "execute_result"
    }
   ],
   "source": [
    "len(df_num)"
   ]
  },
  {
   "cell_type": "code",
   "execution_count": 125,
   "metadata": {
    "id": "7ddbba44"
   },
   "outputs": [],
   "source": [
    "df_num.drop_duplicates(inplace=True)"
   ]
  },
  {
   "cell_type": "code",
   "execution_count": 126,
   "metadata": {
    "id": "f2c19fc1",
    "outputId": "8edf6f53-5f15-47c6-b6a3-d2a2ea8294d6"
   },
   "outputs": [
    {
     "data": {
      "text/plain": [
       "40869"
      ]
     },
     "execution_count": 126,
     "metadata": {},
     "output_type": "execute_result"
    }
   ],
   "source": [
    "len(df_num)"
   ]
  },
  {
   "cell_type": "markdown",
   "metadata": {
    "id": "085b2b80"
   },
   "source": [
    "### Análisis y procesamiento de la variable pdays\n",
    "    "
   ]
  },
  {
   "cell_type": "code",
   "execution_count": 18,
   "metadata": {
    "id": "eab656a4",
    "outputId": "d17bfcea-de04-4946-81b1-8dd4950aabff"
   },
   "outputs": [
    {
     "data": {
      "text/plain": [
       "27"
      ]
     },
     "execution_count": 18,
     "metadata": {},
     "output_type": "execute_result"
    }
   ],
   "source": [
    "# cantidad de valores unicos que tiene pdays\n",
    "df_num.pdays.nunique()"
   ]
  },
  {
   "cell_type": "code",
   "execution_count": 19,
   "metadata": {
    "id": "dea8422f",
    "outputId": "8ae0e87c-92f4-4129-9a70-be92c96d4c39"
   },
   "outputs": [
    {
     "data": {
      "text/plain": [
       "array([999,   6,   4,   3,   5,   1,   0,  10,   7,   8,   9,  11,   2,\n",
       "        12,  13,  14,  15,  16,  21,  17,  18,  22,  25,  26,  19,  27,\n",
       "        20], dtype=int64)"
      ]
     },
     "execution_count": 19,
     "metadata": {},
     "output_type": "execute_result"
    }
   ],
   "source": [
    "# valores únicos que tiene pdays\n",
    "df_num.pdays.unique()"
   ]
  },
  {
   "cell_type": "code",
   "execution_count": 127,
   "metadata": {
    "id": "8a5afa1e",
    "outputId": "b908a98f-3ad2-46fa-d58c-526a77956a6e"
   },
   "outputs": [
    {
     "data": {
      "text/plain": [
       "999    39354\n",
       "3        439\n",
       "6        412\n",
       "4        118\n",
       "9         64\n",
       "Name: pdays, dtype: int64"
      ]
     },
     "execution_count": 127,
     "metadata": {},
     "output_type": "execute_result"
    }
   ],
   "source": [
    "# conteo de registros por cada valor para pdays\n",
    "df_num.pdays.value_counts().head(5)"
   ]
  },
  {
   "cell_type": "markdown",
   "metadata": {
    "id": "34ea5727"
   },
   "source": [
    "**Transformaciones de columnas en Python**\n",
    "\n",
    "La tranformamos en una variable booleana que valga 1 si pdays es 999 y 0 sino.\n",
    "\n",
    "Para ello aprovechamos para analizar diferentes maneras de transformar columnas.\n"
   ]
  },
  {
   "cell_type": "markdown",
   "metadata": {
    "id": "c9270614"
   },
   "source": [
    "Con el método iloc se pueden seleccionar los elementos en base a su ubicación. (iloc:=index location)\n",
    "\n",
    "Con el método loc se pueden seleccionar filas o columnas en base a una etiqueta o seleccionar filas o columnas en base a una condición. "
   ]
  },
  {
   "cell_type": "code",
   "execution_count": 128,
   "metadata": {
    "id": "82386d74",
    "outputId": "fafab00f-a2b9-481b-f250-30e11ebf3025"
   },
   "outputs": [
    {
     "data": {
      "text/plain": [
       "array([1, 0], dtype=int64)"
      ]
     },
     "execution_count": 128,
     "metadata": {},
     "output_type": "execute_result"
    }
   ],
   "source": [
    "# forma 3: usando .loc()\n",
    "df_numcp = df_num.copy()\n",
    "\n",
    "df_numcp.loc[df_numcp.pdays!=999, 'pdays'] = 0\n",
    "df_numcp.loc[df_numcp.pdays==999, 'pdays'] = 1\n",
    "\n",
    "df_numcp['pdays'].unique()"
   ]
  },
  {
   "cell_type": "code",
   "execution_count": 32,
   "metadata": {
    "id": "f2866aa5",
    "outputId": "bfb6bb7c-f2a2-406a-ea9f-e3061739c822"
   },
   "outputs": [
    {
     "data": {
      "text/plain": [
       "<matplotlib.axes._subplots.AxesSubplot at 0x28158463580>"
      ]
     },
     "execution_count": 32,
     "metadata": {},
     "output_type": "execute_result"
    },
    {
     "data": {
      "image/png": "[encoded data removed]",
      "text/plain": [
       "<Figure size 432x288 with 1 Axes>"
      ]
     },
     "metadata": {
      "needs_background": "light"
     },
     "output_type": "display_data"
    }
   ],
   "source": [
    "sns.countplot(x='pdays', data = df_numcp, hue = 'y')"
   ]
  },
  {
   "cell_type": "code",
   "execution_count": 131,
   "metadata": {},
   "outputs": [
    {
     "data": {
      "text/plain": [
       "no     36230\n",
       "yes     4639\n",
       "Name: y, dtype: int64"
      ]
     },
     "execution_count": 131,
     "metadata": {},
     "output_type": "execute_result"
    }
   ],
   "source": [
    "df_numcp.y.value_counts()"
   ]
  },
  {
   "cell_type": "markdown",
   "metadata": {
    "id": "4755df5e"
   },
   "source": [
    "### Variables con outliers:"
   ]
  },
  {
   "cell_type": "markdown",
   "metadata": {
    "id": "d40cf764"
   },
   "source": [
    "En el caso de los árboles de decisión sabemos que son robustos ante outliers, pero como queremos a futuro aplicar más métodos haremos igual el análisis de valores extremos:"
   ]
  },
  {
   "cell_type": "markdown",
   "metadata": {
    "id": "640d855d"
   },
   "source": [
    "Vimos en el AfterClass anterior que las variables _campaign_, _previous_, _duration_ tenían presencia de valores extremos:\n"
   ]
  },
  {
   "cell_type": "code",
   "execution_count": 133,
   "metadata": {
    "id": "408c51a8",
    "outputId": "5970c79e-5a1f-4c0d-937f-69d40a1effec",
    "scrolled": false
   },
   "outputs": [
    {
     "name": "stdout",
     "output_type": "stream",
     "text": [
      "campaign Número de contactos para el ofrecimiento de la actual campaña. \n"
     ]
    },
    {
     "data": {
      "image/png": "[encoded data removed]",
      "text/plain": [
       "<Figure size 1080x288 with 2 Axes>"
      ]
     },
     "metadata": {
      "needs_background": "light"
     },
     "output_type": "display_data"
    },
    {
     "name": "stdout",
     "output_type": "stream",
     "text": [
      "previous Número de contactos para el ofrecimiento antes de la actual campaña. \n"
     ]
    },
    {
     "data": {
      "image/png": "[encoded data removed]",
      "text/plain": [
       "<Figure size 1080x288 with 2 Axes>"
      ]
     },
     "metadata": {
      "needs_background": "light"
     },
     "output_type": "display_data"
    },
    {
     "name": "stdout",
     "output_type": "stream",
     "text": [
      "duration Duración de la llamada o del contacto.\n"
     ]
    },
    {
     "data": {
      "image/png": "[encoded data removed]",
      "text/plain": [
       "<Figure size 1080x288 with 2 Axes>"
      ]
     },
     "metadata": {
      "needs_background": "light"
     },
     "output_type": "display_data"
    }
   ],
   "source": [
    "for col in ['campaign', 'previous', 'duration']:\n",
    "    print(col, d_desc[col])\n",
    "    fig, ax = plt.subplots(1,2, figsize=(15, 4))\n",
    "    ax[0] = sns.distplot(df_num[col], ax=ax[0])\n",
    "    ax[1] = sns.boxplot(df_num[col], ax=ax[1])\n",
    "    plt.show()"
   ]
  },
  {
   "cell_type": "markdown",
   "metadata": {
    "id": "4174814d"
   },
   "source": [
    "Antes de elegir si hacemos algún tipo de transformación debemos analizar la relación de los valores outliers con el target. Esto lo vimos también en el análisis bivariado del AfterClass pasado:"
   ]
  },
  {
   "cell_type": "code",
   "execution_count": 134,
   "metadata": {
    "id": "753f9175",
    "outputId": "bbbeedec-a958-4736-b1bc-0df3767962f5"
   },
   "outputs": [
    {
     "name": "stdout",
     "output_type": "stream",
     "text": [
      "campaign Número de contactos para el ofrecimiento de la actual campaña. \n"
     ]
    },
    {
     "data": {
      "image/png": "[encoded data removed]",
      "text/plain": [
       "<Figure size 432x288 with 1 Axes>"
      ]
     },
     "metadata": {
      "needs_background": "light"
     },
     "output_type": "display_data"
    },
    {
     "name": "stdout",
     "output_type": "stream",
     "text": [
      "previous Número de contactos para el ofrecimiento antes de la actual campaña. \n"
     ]
    },
    {
     "data": {
      "image/png": "[encoded data removed]",
      "text/plain": [
       "<Figure size 432x288 with 1 Axes>"
      ]
     },
     "metadata": {
      "needs_background": "light"
     },
     "output_type": "display_data"
    },
    {
     "name": "stdout",
     "output_type": "stream",
     "text": [
      "duration Duración de la llamada o del contacto.\n"
     ]
    },
    {
     "data": {
      "image/png": "[encoded data removed]",
      "text/plain": [
       "<Figure size 432x288 with 1 Axes>"
      ]
     },
     "metadata": {
      "needs_background": "light"
     },
     "output_type": "display_data"
    }
   ],
   "source": [
    "for col in ['campaign', 'previous', 'duration']:\n",
    "    print(col, d_desc[col])\n",
    "    sns.violinplot(x='y', y=col, data=df_num)\n",
    "    plt.show()"
   ]
  },
  {
   "cell_type": "markdown",
   "metadata": {
    "id": "099dba6a"
   },
   "source": [
    "Tomamos la decisión de no hacer cambios a la variable campaign.\n",
    "\n",
    "Tomamos la dicisión de procesar los valores outliers de duration reemplazandolo por el valor tope del criterio intercuartil:"
   ]
  },
  {
   "cell_type": "code",
   "execution_count": 35,
   "metadata": {
    "id": "f42a2665",
    "outputId": "e57b6048-7b3a-4012-b564-6bd35b409ad4"
   },
   "outputs": [
    {
     "data": {
      "text/plain": [
       "644.5"
      ]
     },
     "execution_count": 35,
     "metadata": {},
     "output_type": "execute_result"
    }
   ],
   "source": [
    "Q1 = df['duration'].quantile(0.25)\n",
    "Q3 = df['duration'].quantile(0.75)\n",
    "\n",
    "IQR = Q3-Q1\n",
    "\n",
    "tope = Q3+1.5*IQR\n",
    "tope\n"
   ]
  },
  {
   "cell_type": "code",
   "execution_count": 136,
   "metadata": {
    "id": "4639f5a4"
   },
   "outputs": [],
   "source": [
    "# creamos una nueva columas con valores reemplazados:\n",
    "df_num['duration_proc'] = df_num['duration']\n",
    "df_num.loc[df_num['duration_proc']>tope, 'duration_proc'] = tope"
   ]
  },
  {
   "cell_type": "markdown",
   "metadata": {
    "id": "a614f677"
   },
   "source": [
    "Tomamos la desición de procesar los valores de la variable previous cambiando todo valor mayor o igual a 2 por 2:"
   ]
  },
  {
   "cell_type": "code",
   "execution_count": 137,
   "metadata": {
    "id": "de4794b1"
   },
   "outputs": [],
   "source": [
    "# hacemos el reemplazo:\n",
    "df_num['previous_proc'] = df_num['previous']\n",
    "df_num.loc[df_num['previous_proc']>=2, 'previous_proc'] = 2"
   ]
  },
  {
   "cell_type": "markdown",
   "metadata": {
    "id": "f375c735"
   },
   "source": [
    "Tarea: Hacer el mismo procesamiento con el comando replace y/o apply y/o map"
   ]
  },
  {
   "cell_type": "markdown",
   "metadata": {
    "id": "c8c3a499"
   },
   "source": [
    "### Target numérico:"
   ]
  },
  {
   "cell_type": "code",
   "execution_count": 138,
   "metadata": {
    "id": "e129a55d",
    "outputId": "ac94b14d-67fa-4700-c692-a70d0210f035"
   },
   "outputs": [
    {
     "data": {
      "text/plain": [
       "array(['no', 'yes'], dtype=object)"
      ]
     },
     "execution_count": 138,
     "metadata": {},
     "output_type": "execute_result"
    }
   ],
   "source": [
    "df_num.y.unique()"
   ]
  },
  {
   "cell_type": "code",
   "execution_count": 139,
   "metadata": {
    "id": "25d98c92"
   },
   "outputs": [],
   "source": [
    "## Convertimos la variable target a valores enteros\n",
    "df_num['y'] = df_num.y.map({'no':0, 'yes':1})"
   ]
  },
  {
   "cell_type": "markdown",
   "metadata": {
    "id": "e6781e9a"
   },
   "source": [
    "## Inputs del modelo:"
   ]
  },
  {
   "cell_type": "code",
   "execution_count": 140,
   "metadata": {
    "id": "7ebad528",
    "outputId": "d56e86e2-89eb-4ad0-f4b4-63c22beab157"
   },
   "outputs": [
    {
     "data": {
      "text/html": [
       "<div>\n",
       "<style scoped>\n",
       "    .dataframe tbody tr th:only-of-type {\n",
       "        vertical-align: middle;\n",
       "    }\n",
       "\n",
       "    .dataframe tbody tr th {\n",
       "        vertical-align: top;\n",
       "    }\n",
       "\n",
       "    .dataframe thead th {\n",
       "        text-align: right;\n",
       "    }\n",
       "</style>\n",
       "<table border=\"1\" class=\"dataframe\">\n",
       "  <thead>\n",
       "    <tr style=\"text-align: right;\">\n",
       "      <th></th>\n",
       "      <th>age</th>\n",
       "      <th>duration</th>\n",
       "      <th>campaign</th>\n",
       "      <th>pdays</th>\n",
       "      <th>previous</th>\n",
       "      <th>emp.var.rate</th>\n",
       "      <th>cons.price.idx</th>\n",
       "      <th>cons.conf.idx</th>\n",
       "      <th>euribor3m</th>\n",
       "      <th>nr.employed</th>\n",
       "      <th>y</th>\n",
       "      <th>duration_proc</th>\n",
       "      <th>previous_proc</th>\n",
       "    </tr>\n",
       "  </thead>\n",
       "  <tbody>\n",
       "    <tr>\n",
       "      <th>0</th>\n",
       "      <td>56</td>\n",
       "      <td>261</td>\n",
       "      <td>1</td>\n",
       "      <td>999</td>\n",
       "      <td>0</td>\n",
       "      <td>1.100</td>\n",
       "      <td>93.994</td>\n",
       "      <td>-36.400</td>\n",
       "      <td>4.857</td>\n",
       "      <td>5191.000</td>\n",
       "      <td>0</td>\n",
       "      <td>261.000</td>\n",
       "      <td>0</td>\n",
       "    </tr>\n",
       "    <tr>\n",
       "      <th>1</th>\n",
       "      <td>57</td>\n",
       "      <td>149</td>\n",
       "      <td>1</td>\n",
       "      <td>999</td>\n",
       "      <td>0</td>\n",
       "      <td>1.100</td>\n",
       "      <td>93.994</td>\n",
       "      <td>-36.400</td>\n",
       "      <td>4.857</td>\n",
       "      <td>5191.000</td>\n",
       "      <td>0</td>\n",
       "      <td>149.000</td>\n",
       "      <td>0</td>\n",
       "    </tr>\n",
       "    <tr>\n",
       "      <th>2</th>\n",
       "      <td>37</td>\n",
       "      <td>226</td>\n",
       "      <td>1</td>\n",
       "      <td>999</td>\n",
       "      <td>0</td>\n",
       "      <td>1.100</td>\n",
       "      <td>93.994</td>\n",
       "      <td>-36.400</td>\n",
       "      <td>4.857</td>\n",
       "      <td>5191.000</td>\n",
       "      <td>0</td>\n",
       "      <td>226.000</td>\n",
       "      <td>0</td>\n",
       "    </tr>\n",
       "    <tr>\n",
       "      <th>3</th>\n",
       "      <td>40</td>\n",
       "      <td>151</td>\n",
       "      <td>1</td>\n",
       "      <td>999</td>\n",
       "      <td>0</td>\n",
       "      <td>1.100</td>\n",
       "      <td>93.994</td>\n",
       "      <td>-36.400</td>\n",
       "      <td>4.857</td>\n",
       "      <td>5191.000</td>\n",
       "      <td>0</td>\n",
       "      <td>151.000</td>\n",
       "      <td>0</td>\n",
       "    </tr>\n",
       "    <tr>\n",
       "      <th>4</th>\n",
       "      <td>56</td>\n",
       "      <td>307</td>\n",
       "      <td>1</td>\n",
       "      <td>999</td>\n",
       "      <td>0</td>\n",
       "      <td>1.100</td>\n",
       "      <td>93.994</td>\n",
       "      <td>-36.400</td>\n",
       "      <td>4.857</td>\n",
       "      <td>5191.000</td>\n",
       "      <td>0</td>\n",
       "      <td>307.000</td>\n",
       "      <td>0</td>\n",
       "    </tr>\n",
       "  </tbody>\n",
       "</table>\n",
       "</div>"
      ],
      "text/plain": [
       "   age  duration  campaign  pdays  previous  emp.var.rate  cons.price.idx  \\\n",
       "0   56       261         1    999         0         1.100          93.994   \n",
       "1   57       149         1    999         0         1.100          93.994   \n",
       "2   37       226         1    999         0         1.100          93.994   \n",
       "3   40       151         1    999         0         1.100          93.994   \n",
       "4   56       307         1    999         0         1.100          93.994   \n",
       "\n",
       "   cons.conf.idx  euribor3m  nr.employed  y  duration_proc  previous_proc  \n",
       "0        -36.400      4.857     5191.000  0        261.000              0  \n",
       "1        -36.400      4.857     5191.000  0        149.000              0  \n",
       "2        -36.400      4.857     5191.000  0        226.000              0  \n",
       "3        -36.400      4.857     5191.000  0        151.000              0  \n",
       "4        -36.400      4.857     5191.000  0        307.000              0  "
      ]
     },
     "execution_count": 140,
     "metadata": {},
     "output_type": "execute_result"
    }
   ],
   "source": [
    "df_num.head()"
   ]
  },
  {
   "cell_type": "code",
   "execution_count": 141,
   "metadata": {
    "id": "850b58ff",
    "outputId": "4925913d-728e-4112-abaa-d79b23ba4b9d"
   },
   "outputs": [
    {
     "data": {
      "text/plain": [
       "['age',\n",
       " 'duration',\n",
       " 'campaign',\n",
       " 'pdays',\n",
       " 'previous',\n",
       " 'emp.var.rate',\n",
       " 'cons.price.idx',\n",
       " 'cons.conf.idx',\n",
       " 'euribor3m',\n",
       " 'nr.employed',\n",
       " 'y']"
      ]
     },
     "execution_count": 141,
     "metadata": {},
     "output_type": "execute_result"
    }
   ],
   "source": [
    "## nos quedamos con las columnas sin procesar outliers:\n",
    "columnas1 = df_num.columns.tolist()[:-2]\n",
    "columnas1"
   ]
  },
  {
   "cell_type": "markdown",
   "metadata": {
    "id": "cdfc9aba"
   },
   "source": [
    "Pero también podríamos hacer pruebas con otras combinaciones de columnas:"
   ]
  },
  {
   "cell_type": "code",
   "execution_count": 42,
   "metadata": {
    "id": "eca8283a"
   },
   "outputs": [],
   "source": [
    "# el target y todas las numericas procesando outliers\n",
    "columnas2 = df_num.drop(['duration', 'previous'], axis = 1).columns.tolist()\n",
    "\n",
    "# el target y todas las numeéricas salvo pdays sin procesar outliers\n",
    "columnas3 = df_num.drop('pdays', axis = 1).columns.tolist()[:-2]\n",
    "\n",
    "# el target y todas las numericas salvo pdays procesando outliers\n",
    "columnas4 = df_num.drop(['duration', 'previous', 'pdays'], axis = 1).columns.tolist()"
   ]
  },
  {
   "cell_type": "code",
   "execution_count": 43,
   "metadata": {
    "id": "d9eaf6ad",
    "outputId": "964a04ed-63e6-45ef-dbdf-69d7e55584c2"
   },
   "outputs": [
    {
     "data": {
      "text/html": [
       "<div>\n",
       "<style scoped>\n",
       "    .dataframe tbody tr th:only-of-type {\n",
       "        vertical-align: middle;\n",
       "    }\n",
       "\n",
       "    .dataframe tbody tr th {\n",
       "        vertical-align: top;\n",
       "    }\n",
       "\n",
       "    .dataframe thead th {\n",
       "        text-align: right;\n",
       "    }\n",
       "</style>\n",
       "<table border=\"1\" class=\"dataframe\">\n",
       "  <thead>\n",
       "    <tr style=\"text-align: right;\">\n",
       "      <th></th>\n",
       "      <th>age</th>\n",
       "      <th>duration</th>\n",
       "      <th>campaign</th>\n",
       "      <th>pdays</th>\n",
       "      <th>previous</th>\n",
       "      <th>emp.var.rate</th>\n",
       "      <th>cons.price.idx</th>\n",
       "      <th>cons.conf.idx</th>\n",
       "      <th>euribor3m</th>\n",
       "      <th>nr.employed</th>\n",
       "      <th>y</th>\n",
       "    </tr>\n",
       "  </thead>\n",
       "  <tbody>\n",
       "    <tr>\n",
       "      <th>0</th>\n",
       "      <td>56</td>\n",
       "      <td>261</td>\n",
       "      <td>1</td>\n",
       "      <td>999</td>\n",
       "      <td>0</td>\n",
       "      <td>1.100</td>\n",
       "      <td>93.994</td>\n",
       "      <td>-36.400</td>\n",
       "      <td>4.857</td>\n",
       "      <td>5191.000</td>\n",
       "      <td>0</td>\n",
       "    </tr>\n",
       "    <tr>\n",
       "      <th>1</th>\n",
       "      <td>57</td>\n",
       "      <td>149</td>\n",
       "      <td>1</td>\n",
       "      <td>999</td>\n",
       "      <td>0</td>\n",
       "      <td>1.100</td>\n",
       "      <td>93.994</td>\n",
       "      <td>-36.400</td>\n",
       "      <td>4.857</td>\n",
       "      <td>5191.000</td>\n",
       "      <td>0</td>\n",
       "    </tr>\n",
       "    <tr>\n",
       "      <th>2</th>\n",
       "      <td>37</td>\n",
       "      <td>226</td>\n",
       "      <td>1</td>\n",
       "      <td>999</td>\n",
       "      <td>0</td>\n",
       "      <td>1.100</td>\n",
       "      <td>93.994</td>\n",
       "      <td>-36.400</td>\n",
       "      <td>4.857</td>\n",
       "      <td>5191.000</td>\n",
       "      <td>0</td>\n",
       "    </tr>\n",
       "    <tr>\n",
       "      <th>3</th>\n",
       "      <td>40</td>\n",
       "      <td>151</td>\n",
       "      <td>1</td>\n",
       "      <td>999</td>\n",
       "      <td>0</td>\n",
       "      <td>1.100</td>\n",
       "      <td>93.994</td>\n",
       "      <td>-36.400</td>\n",
       "      <td>4.857</td>\n",
       "      <td>5191.000</td>\n",
       "      <td>0</td>\n",
       "    </tr>\n",
       "    <tr>\n",
       "      <th>4</th>\n",
       "      <td>56</td>\n",
       "      <td>307</td>\n",
       "      <td>1</td>\n",
       "      <td>999</td>\n",
       "      <td>0</td>\n",
       "      <td>1.100</td>\n",
       "      <td>93.994</td>\n",
       "      <td>-36.400</td>\n",
       "      <td>4.857</td>\n",
       "      <td>5191.000</td>\n",
       "      <td>0</td>\n",
       "    </tr>\n",
       "  </tbody>\n",
       "</table>\n",
       "</div>"
      ],
      "text/plain": [
       "   age  duration  campaign  pdays  previous  emp.var.rate  cons.price.idx  \\\n",
       "0   56       261         1    999         0         1.100          93.994   \n",
       "1   57       149         1    999         0         1.100          93.994   \n",
       "2   37       226         1    999         0         1.100          93.994   \n",
       "3   40       151         1    999         0         1.100          93.994   \n",
       "4   56       307         1    999         0         1.100          93.994   \n",
       "\n",
       "   cons.conf.idx  euribor3m  nr.employed  y  \n",
       "0        -36.400      4.857     5191.000  0  \n",
       "1        -36.400      4.857     5191.000  0  \n",
       "2        -36.400      4.857     5191.000  0  \n",
       "3        -36.400      4.857     5191.000  0  \n",
       "4        -36.400      4.857     5191.000  0  "
      ]
     },
     "execution_count": 43,
     "metadata": {},
     "output_type": "execute_result"
    }
   ],
   "source": [
    "df_num[columnas1].head()"
   ]
  },
  {
   "cell_type": "markdown",
   "metadata": {
    "id": "fbe7f66b"
   },
   "source": [
    "## Modelo de Árbol \n"
   ]
  },
  {
   "cell_type": "markdown",
   "metadata": {
    "id": "95d0ba62"
   },
   "source": [
    "### Train & Test Split"
   ]
  },
  {
   "cell_type": "code",
   "execution_count": 142,
   "metadata": {
    "id": "9477f8da"
   },
   "outputs": [],
   "source": [
    "# split del dataset\n",
    "from sklearn.model_selection import train_test_split"
   ]
  },
  {
   "cell_type": "code",
   "execution_count": 143,
   "metadata": {
    "id": "5975a23f"
   },
   "outputs": [],
   "source": [
    "# separamos las caracteristicas/features del target\n",
    "X = df_num[columnas1].drop('y', axis=1)\n",
    "y = df_num['y']"
   ]
  },
  {
   "cell_type": "code",
   "execution_count": 48,
   "metadata": {
    "id": "fccd17cb",
    "outputId": "269236b1-e455-405a-9796-b5ba05c06ec1"
   },
   "outputs": [
    {
     "name": "stdout",
     "output_type": "stream",
     "text": [
      "Tamaño del set de entrenamiento: (32695, 10)\n",
      "Tamaño del set de testeo: (8174, 10)\n"
     ]
    }
   ],
   "source": [
    "# train test split\n",
    "\n",
    "X_train, X_test, y_train, y_test = train_test_split(X, y,\n",
    "                                                    test_size=0.2,\n",
    "                                                    random_state=33,\n",
    "                                                    stratify= y)\n",
    "\n",
    "\n",
    "print('Tamaño del set de entrenamiento:', X_train.shape)\n",
    "print('Tamaño del set de testeo:', X_test.shape)"
   ]
  },
  {
   "cell_type": "code",
   "execution_count": 49,
   "metadata": {
    "id": "5fe1b9c8",
    "outputId": "8d350390-6018-4426-f336-7b4e029cb5b4"
   },
   "outputs": [
    {
     "data": {
      "text/plain": [
       "11.350359382168527"
      ]
     },
     "execution_count": 49,
     "metadata": {},
     "output_type": "execute_result"
    }
   ],
   "source": [
    "# porcentaje de clase True en train\n",
    "100*y_train.sum()/len(y_train)"
   ]
  },
  {
   "cell_type": "code",
   "execution_count": 50,
   "metadata": {
    "id": "f2a39778",
    "outputId": "5feb9fd0-09e6-495a-f4a6-ddb7f67dddbc"
   },
   "outputs": [
    {
     "data": {
      "text/plain": [
       "11.353070712013702"
      ]
     },
     "execution_count": 50,
     "metadata": {},
     "output_type": "execute_result"
    }
   ],
   "source": [
    "# porcentaje de clase True en test\n",
    "100*y_test.sum()/len(y_test)"
   ]
  },
  {
   "cell_type": "markdown",
   "metadata": {
    "id": "e4fac540"
   },
   "source": [
    "### Árbol de Decisión:"
   ]
  },
  {
   "cell_type": "markdown",
   "metadata": {
    "id": "f20efbe2"
   },
   "source": [
    "Pros:\n",
    "-------\n",
    "* alta capacidad de explicar la decisión\n",
    "* aceptan variables categóricas\n",
    "\n",
    "Contras:\n",
    "-----------\n",
    "* necesitan data balanceada\n",
    "* tienen a sobre ajuste"
   ]
  },
  {
   "cell_type": "markdown",
   "metadata": {
    "id": "097227ab"
   },
   "source": [
    "https://scikit-learn.org/stable/modules/generated/sklearn.tree.DecisionTreeClassifier.html"
   ]
  },
  {
   "cell_type": "markdown",
   "metadata": {
    "id": "8a86e5c3"
   },
   "source": [
    "Tener en cuenta que tanto los árboles como los ensambles de árboles, no necesitan escalado de valores."
   ]
  },
  {
   "cell_type": "code",
   "execution_count": 146,
   "metadata": {
    "id": "595e0231"
   },
   "outputs": [],
   "source": [
    "# modelos\n",
    "from sklearn.tree import DecisionTreeClassifier"
   ]
  },
  {
   "cell_type": "code",
   "execution_count": 147,
   "metadata": {
    "id": "1d09631b"
   },
   "outputs": [],
   "source": [
    "tree_model = DecisionTreeClassifier(random_state = 0, class_weight='balanced')"
   ]
  },
  {
   "cell_type": "markdown",
   "metadata": {
    "id": "e402279a"
   },
   "source": [
    "### Entrenamiento, predicción y evaluación:"
   ]
  },
  {
   "cell_type": "code",
   "execution_count": 148,
   "metadata": {
    "id": "6728bffe",
    "outputId": "84b999d0-944e-428d-9b31-6c2ef2b6b928"
   },
   "outputs": [
    {
     "data": {
      "text/plain": [
       "DecisionTreeClassifier(class_weight='balanced', random_state=0)"
      ]
     },
     "execution_count": 148,
     "metadata": {},
     "output_type": "execute_result"
    }
   ],
   "source": [
    "# entrenamiento\n",
    "tree_model.fit(X_train, y_train)"
   ]
  },
  {
   "cell_type": "code",
   "execution_count": 149,
   "metadata": {
    "id": "40f52fca",
    "outputId": "4c2f35e4-719c-4097-b06c-88987e885974"
   },
   "outputs": [
    {
     "data": {
      "text/plain": [
       "{'ccp_alpha': 0.0,\n",
       " 'class_weight': 'balanced',\n",
       " 'criterion': 'gini',\n",
       " 'max_depth': None,\n",
       " 'max_features': None,\n",
       " 'max_leaf_nodes': None,\n",
       " 'min_impurity_decrease': 0.0,\n",
       " 'min_samples_leaf': 1,\n",
       " 'min_samples_split': 2,\n",
       " 'min_weight_fraction_leaf': 0.0,\n",
       " 'random_state': 0,\n",
       " 'splitter': 'best'}"
      ]
     },
     "execution_count": 149,
     "metadata": {},
     "output_type": "execute_result"
    }
   ],
   "source": [
    "# si queremos podes ver los hiperparametros del arbol\n",
    "tree_model.get_params()"
   ]
  },
  {
   "cell_type": "markdown",
   "metadata": {
    "id": "5cec26ff"
   },
   "source": [
    "### Predicciones:"
   ]
  },
  {
   "cell_type": "code",
   "execution_count": 150,
   "metadata": {
    "id": "95bd729a"
   },
   "outputs": [],
   "source": [
    "# predicciones\n",
    "y_pred = tree_model.predict(X_test)\n",
    "y_pred_train = tree_model.predict(X_train)"
   ]
  },
  {
   "cell_type": "code",
   "execution_count": 151,
   "metadata": {
    "id": "7ec417b5",
    "outputId": "0d922cb6-c633-4b16-ee09-c99c95893041"
   },
   "outputs": [
    {
     "data": {
      "text/plain": [
       "((8174, 4), (8174,))"
      ]
     },
     "execution_count": 151,
     "metadata": {},
     "output_type": "execute_result"
    }
   ],
   "source": [
    "X_test.shape, y_test.shape"
   ]
  },
  {
   "cell_type": "code",
   "execution_count": 152,
   "metadata": {
    "id": "7cb44d73",
    "outputId": "3de39f60-7dc5-4868-bed3-aced43d77dae"
   },
   "outputs": [
    {
     "data": {
      "text/plain": [
       "(8174,)"
      ]
     },
     "execution_count": 152,
     "metadata": {},
     "output_type": "execute_result"
    }
   ],
   "source": [
    "y_pred.shape"
   ]
  },
  {
   "cell_type": "markdown",
   "metadata": {
    "id": "5a641dc5"
   },
   "source": [
    "Miramos las 10 primeras predicciones:"
   ]
  },
  {
   "cell_type": "code",
   "execution_count": 153,
   "metadata": {
    "id": "3fedf01a",
    "outputId": "35feff20-da4d-4f7a-ce4e-a2ec159e327e"
   },
   "outputs": [
    {
     "data": {
      "text/plain": [
       "array([0, 0, 0, 1, 1, 0, 0, 0, 0, 0], dtype=int64)"
      ]
     },
     "execution_count": 153,
     "metadata": {},
     "output_type": "execute_result"
    }
   ],
   "source": [
    "y_pred[:10]"
   ]
  },
  {
   "cell_type": "markdown",
   "metadata": {
    "id": "682abe3c"
   },
   "source": [
    "Y lo comparamos con el valor real del target de las 10 primeras filas"
   ]
  },
  {
   "cell_type": "code",
   "execution_count": 154,
   "metadata": {
    "id": "4f64c2cf",
    "outputId": "c2183e24-3d05-448b-af07-e383fa6511e0"
   },
   "outputs": [
    {
     "data": {
      "text/plain": [
       "array([0, 0, 0, 1, 0, 0, 0, 0, 0, 0], dtype=int64)"
      ]
     },
     "execution_count": 154,
     "metadata": {},
     "output_type": "execute_result"
    }
   ],
   "source": [
    "y_test[:10].values"
   ]
  },
  {
   "cell_type": "markdown",
   "metadata": {
    "id": "f33d3cdf"
   },
   "source": [
    "### Evaluación"
   ]
  },
  {
   "cell_type": "code",
   "execution_count": 155,
   "metadata": {
    "id": "63d76b05"
   },
   "outputs": [],
   "source": [
    "# evaluacion \n",
    "from sklearn.metrics import accuracy_score, recall_score, precision_score, f1_score\n",
    "from sklearn.metrics import classification_report\n",
    "from sklearn.metrics import confusion_matrix"
   ]
  },
  {
   "cell_type": "markdown",
   "metadata": {
    "id": "38821383"
   },
   "source": [
    "Evaluamos el modelo en el conjunto de testeo:"
   ]
  },
  {
   "cell_type": "code",
   "execution_count": 156,
   "metadata": {
    "id": "c135e131",
    "outputId": "4bfe1708-1f87-458a-c256-e77be28f0284"
   },
   "outputs": [
    {
     "name": "stdout",
     "output_type": "stream",
     "text": [
      "METRICAS TRAIN:\n",
      "Recall: 1.0000\n",
      "Precision: 0.9973\n",
      "F1: 0.9987\n",
      "Accuracy: 0.9997\n"
     ]
    }
   ],
   "source": [
    "recall = recall_score(y_train, y_pred_train)\n",
    "precision = precision_score(y_train, y_pred_train)\n",
    "acc = accuracy_score(y_train, y_pred_train)\n",
    "f1 = f1_score(y_train, y_pred_train)\n",
    "\n",
    "print('METRICAS TRAIN:')\n",
    "print('Recall: {:.4f}'.format(recall))\n",
    "print('Precision: {:.4f}'.format(precision))\n",
    "print('F1: {:.4f}'.format(f1))\n",
    "print('Accuracy: {:.4f}'.format(acc))"
   ]
  },
  {
   "cell_type": "markdown",
   "metadata": {
    "id": "8886b4d5"
   },
   "source": [
    "Evaluamos el modelo ya entrenado en el conjunto de testeo:"
   ]
  },
  {
   "cell_type": "code",
   "execution_count": 157,
   "metadata": {
    "id": "adf5b546",
    "outputId": "fbcdc528-b616-403b-a70c-8caf984c6f06"
   },
   "outputs": [
    {
     "name": "stdout",
     "output_type": "stream",
     "text": [
      "METRICAS TEST:\n",
      "Recall: 0.4494\n",
      "Precision: 0.4593\n",
      "F1: 0.4542\n",
      "Accuracy: 0.8774\n"
     ]
    }
   ],
   "source": [
    "recall = recall_score(y_test, y_pred)\n",
    "precision = precision_score(y_test, y_pred)\n",
    "acc = accuracy_score(y_test, y_pred)\n",
    "f1 = f1_score(y_test, y_pred)\n",
    "\n",
    "print('METRICAS TEST:')\n",
    "print('Recall: {:.4f}'.format(recall))\n",
    "print('Precision: {:.4f}'.format(precision))\n",
    "print('F1: {:.4f}'.format(f1))\n",
    "print('Accuracy: {:.4f}'.format(acc))"
   ]
  },
  {
   "cell_type": "code",
   "execution_count": 158,
   "metadata": {
    "id": "1a353f68",
    "outputId": "287a438a-d357-46dd-bf1c-813ec7b10c4b"
   },
   "outputs": [
    {
     "data": {
      "text/plain": [
       "array([[6755,  491],\n",
       "       [ 511,  417]], dtype=int64)"
      ]
     },
     "execution_count": 158,
     "metadata": {},
     "output_type": "execute_result"
    }
   ],
   "source": [
    "confusion_matrix(y_test, y_pred)"
   ]
  },
  {
   "cell_type": "code",
   "execution_count": 159,
   "metadata": {
    "id": "0671e6bd",
    "outputId": "491d4bbc-bae3-4204-a22b-7c33b18ac1ff"
   },
   "outputs": [
    {
     "name": "stdout",
     "output_type": "stream",
     "text": [
      "              precision    recall  f1-score   support\n",
      "\n",
      "           0       0.93      0.93      0.93      7246\n",
      "           1       0.46      0.45      0.45       928\n",
      "\n",
      "    accuracy                           0.88      8174\n",
      "   macro avg       0.69      0.69      0.69      8174\n",
      "weighted avg       0.88      0.88      0.88      8174\n",
      "\n"
     ]
    }
   ],
   "source": [
    "print(classification_report(y_test, y_pred))"
   ]
  },
  {
   "cell_type": "markdown",
   "metadata": {
    "id": "ffcc8bc3"
   },
   "source": [
    "###  Probabilidades"
   ]
  },
  {
   "cell_type": "code",
   "execution_count": 160,
   "metadata": {
    "id": "87ca1354",
    "outputId": "72885fff-f8b9-44df-864d-0010c377322d"
   },
   "outputs": [
    {
     "data": {
      "text/plain": [
       "array([[1., 0.],\n",
       "       [1., 0.],\n",
       "       [1., 0.],\n",
       "       ...,\n",
       "       [1., 0.],\n",
       "       [1., 0.],\n",
       "       [1., 0.]])"
      ]
     },
     "execution_count": 160,
     "metadata": {},
     "output_type": "execute_result"
    }
   ],
   "source": [
    "proba = tree_model.predict_proba(X_test)\n",
    "\n",
    "proba"
   ]
  },
  {
   "cell_type": "markdown",
   "metadata": {
    "id": "137ba48a"
   },
   "source": [
    "### Feature importance"
   ]
  },
  {
   "cell_type": "code",
   "execution_count": 161,
   "metadata": {
    "id": "522a02b2",
    "outputId": "a7399e51-bf25-4c60-d77c-ff58c60430fb"
   },
   "outputs": [
    {
     "data": {
      "text/plain": [
       "array([0.50219682, 0.17397467, 0.21452533, 0.10930318])"
      ]
     },
     "execution_count": 161,
     "metadata": {},
     "output_type": "execute_result"
    }
   ],
   "source": [
    "tree_model.feature_importances_"
   ]
  },
  {
   "cell_type": "code",
   "execution_count": 162,
   "metadata": {
    "id": "13eb8380",
    "outputId": "0ae411c4-6a55-4631-e948-acd9c1d5c066"
   },
   "outputs": [
    {
     "data": {
      "text/html": [
       "<div>\n",
       "<style scoped>\n",
       "    .dataframe tbody tr th:only-of-type {\n",
       "        vertical-align: middle;\n",
       "    }\n",
       "\n",
       "    .dataframe tbody tr th {\n",
       "        vertical-align: top;\n",
       "    }\n",
       "\n",
       "    .dataframe thead th {\n",
       "        text-align: right;\n",
       "    }\n",
       "</style>\n",
       "<table border=\"1\" class=\"dataframe\">\n",
       "  <thead>\n",
       "    <tr style=\"text-align: right;\">\n",
       "      <th></th>\n",
       "      <th>Variable</th>\n",
       "      <th>Importancia</th>\n",
       "    </tr>\n",
       "  </thead>\n",
       "  <tbody>\n",
       "    <tr>\n",
       "      <th>0</th>\n",
       "      <td>duration</td>\n",
       "      <td>0.502</td>\n",
       "    </tr>\n",
       "    <tr>\n",
       "      <th>2</th>\n",
       "      <td>euribor3m</td>\n",
       "      <td>0.215</td>\n",
       "    </tr>\n",
       "    <tr>\n",
       "      <th>1</th>\n",
       "      <td>nr.employed</td>\n",
       "      <td>0.174</td>\n",
       "    </tr>\n",
       "    <tr>\n",
       "      <th>3</th>\n",
       "      <td>age</td>\n",
       "      <td>0.109</td>\n",
       "    </tr>\n",
       "  </tbody>\n",
       "</table>\n",
       "</div>"
      ],
      "text/plain": [
       "      Variable  Importancia\n",
       "0     duration        0.502\n",
       "2    euribor3m        0.215\n",
       "1  nr.employed        0.174\n",
       "3          age        0.109"
      ]
     },
     "execution_count": 162,
     "metadata": {},
     "output_type": "execute_result"
    }
   ],
   "source": [
    "df_importancia = pd.DataFrame({'Variable': X_train.columns.values.tolist(),\n",
    "                               'Importancia': tree_model.feature_importances_}).sort_values(by='Importancia', ascending=False)\n",
    "\n",
    "df_importancia"
   ]
  },
  {
   "cell_type": "code",
   "execution_count": 163,
   "metadata": {
    "id": "3a942075",
    "outputId": "794684a5-5e8d-4d02-f318-85cc715ce3a3"
   },
   "outputs": [
    {
     "data": {
      "image/png": "[encoded data removed]",
      "text/plain": [
       "<Figure size 576x360 with 1 Axes>"
      ]
     },
     "metadata": {
      "needs_background": "light"
     },
     "output_type": "display_data"
    }
   ],
   "source": [
    "plt.figure(figsize=(8,5))\n",
    "\n",
    "values = df_importancia.Importancia    \n",
    "\n",
    "sns.barplot(y=df_importancia.Variable,\n",
    "            x=values,\n",
    "            palette = ['green' if (x < max(values)) else 'red' for x in values ]\n",
    "           ).set(title='Importancia de Features para la predicción de Suscripción al producto')\n",
    "\n",
    "plt.show()"
   ]
  },
  {
   "cell_type": "markdown",
   "metadata": {
    "id": "23bf37f7"
   },
   "source": [
    "## Comparativas variando campos:"
   ]
  },
  {
   "cell_type": "code",
   "execution_count": 164,
   "metadata": {
    "id": "b05ef346"
   },
   "outputs": [
    {
     "name": "stdout",
     "output_type": "stream",
     "text": [
      "Entrenando modelo nro:  0\n",
      "Entrenando modelo nro:  1\n",
      "Entrenando modelo nro:  2\n",
      "Entrenando modelo nro:  3\n",
      "Entrenando modelo nro:  4\n"
     ]
    }
   ],
   "source": [
    "# inicializo los dataframes en donde voy a guardar la información de las métricas:\n",
    "metricas_train = pd.DataFrame({'metricas':['recall', 'precision', 'accuracy', 'f1']})\n",
    "metricas_test = pd.DataFrame({'metricas':['recall', 'precision', 'accuracy', 'f1']})\n",
    "\n",
    "columnas5 = df_importancia.Variable.tolist()[:4]+['y']\n",
    "\n",
    "for i, comb in enumerate([columnas1, columnas2, columnas3, columnas4, columnas5]):\n",
    "    \n",
    "    # separamos el target \n",
    "    X = df_num[comb].drop('y', axis=1)\n",
    "    y = df_num['y']\n",
    "\n",
    "    # dividimos en train y test \n",
    "    X_train, X_test, y_train, y_test = train_test_split(X, y, \n",
    "                                                    test_size=0.20, # nos quedata dividido en 80% train y 20% test\n",
    "                                                    random_state=33,# es la semilla para que cada vez que lo corramos de lo mismo\n",
    "                                                    stratify = y)   # se separa \"parejo\" respecto a la variable y\n",
    "                                                    \n",
    "    # modelo\n",
    "    tree_model = DecisionTreeClassifier(random_state = 42,\n",
    "                                        class_weight='balanced') # para lidear con data desbalanceada\n",
    "    # entrenamos y predecimos\n",
    "    print('Entrenando modelo nro: ', i)\n",
    "    tree_model.fit(X_train, y_train)\n",
    "    \n",
    "    y_pred = tree_model.predict(X_test)\n",
    "    y_pred_train = tree_model.predict(X_train)\n",
    "    \n",
    "    # calculamos y guardamos los valores recall, precision, accuracy y f1\n",
    "    metricas_train['mod'+str(i)] = [recall_score(y_train, y_pred_train), \n",
    "                                    precision_score(y_train, y_pred_train),\n",
    "                                    accuracy_score(y_train, y_pred_train),\n",
    "                                    f1_score(y_train, y_pred_train)]\n",
    "    \n",
    "    metricas_test['mod'+str(i)] = [recall_score(y_test, y_pred),\n",
    "                                   precision_score(y_test, y_pred),\n",
    "                                   accuracy_score(y_test, y_pred),\n",
    "                                   f1_score(y_test, y_pred)]\n",
    "    \n",
    "    \n",
    "    "
   ]
  },
  {
   "cell_type": "code",
   "execution_count": 165,
   "metadata": {
    "id": "69c1bb26"
   },
   "outputs": [
    {
     "data": {
      "text/html": [
       "<div>\n",
       "<style scoped>\n",
       "    .dataframe tbody tr th:only-of-type {\n",
       "        vertical-align: middle;\n",
       "    }\n",
       "\n",
       "    .dataframe tbody tr th {\n",
       "        vertical-align: top;\n",
       "    }\n",
       "\n",
       "    .dataframe thead th {\n",
       "        text-align: right;\n",
       "    }\n",
       "</style>\n",
       "<table border=\"1\" class=\"dataframe\">\n",
       "  <thead>\n",
       "    <tr style=\"text-align: right;\">\n",
       "      <th>metricas</th>\n",
       "      <th>recall</th>\n",
       "      <th>precision</th>\n",
       "      <th>accuracy</th>\n",
       "      <th>f1</th>\n",
       "    </tr>\n",
       "  </thead>\n",
       "  <tbody>\n",
       "    <tr>\n",
       "      <th>mod0</th>\n",
       "      <td>1.000</td>\n",
       "      <td>0.999</td>\n",
       "      <td>1.000</td>\n",
       "      <td>1.000</td>\n",
       "    </tr>\n",
       "    <tr>\n",
       "      <th>mod1</th>\n",
       "      <td>1.000</td>\n",
       "      <td>0.950</td>\n",
       "      <td>0.994</td>\n",
       "      <td>0.975</td>\n",
       "    </tr>\n",
       "    <tr>\n",
       "      <th>mod2</th>\n",
       "      <td>1.000</td>\n",
       "      <td>0.999</td>\n",
       "      <td>1.000</td>\n",
       "      <td>1.000</td>\n",
       "    </tr>\n",
       "    <tr>\n",
       "      <th>mod3</th>\n",
       "      <td>1.000</td>\n",
       "      <td>0.949</td>\n",
       "      <td>0.994</td>\n",
       "      <td>0.974</td>\n",
       "    </tr>\n",
       "    <tr>\n",
       "      <th>mod4</th>\n",
       "      <td>1.000</td>\n",
       "      <td>0.997</td>\n",
       "      <td>1.000</td>\n",
       "      <td>0.999</td>\n",
       "    </tr>\n",
       "  </tbody>\n",
       "</table>\n",
       "</div>"
      ],
      "text/plain": [
       "metricas  recall  precision  accuracy    f1\n",
       "mod0       1.000      0.999     1.000 1.000\n",
       "mod1       1.000      0.950     0.994 0.975\n",
       "mod2       1.000      0.999     1.000 1.000\n",
       "mod3       1.000      0.949     0.994 0.974\n",
       "mod4       1.000      0.997     1.000 0.999"
      ]
     },
     "execution_count": 165,
     "metadata": {},
     "output_type": "execute_result"
    }
   ],
   "source": [
    "metricas_train.set_index('metricas').T"
   ]
  },
  {
   "cell_type": "code",
   "execution_count": 167,
   "metadata": {
    "id": "85bf94a0"
   },
   "outputs": [
    {
     "data": {
      "text/html": [
       "<div>\n",
       "<style scoped>\n",
       "    .dataframe tbody tr th:only-of-type {\n",
       "        vertical-align: middle;\n",
       "    }\n",
       "\n",
       "    .dataframe tbody tr th {\n",
       "        vertical-align: top;\n",
       "    }\n",
       "\n",
       "    .dataframe thead th {\n",
       "        text-align: right;\n",
       "    }\n",
       "</style>\n",
       "<table border=\"1\" class=\"dataframe\">\n",
       "  <thead>\n",
       "    <tr style=\"text-align: right;\">\n",
       "      <th>metricas</th>\n",
       "      <th>recall</th>\n",
       "      <th>precision</th>\n",
       "      <th>accuracy</th>\n",
       "      <th>f1</th>\n",
       "    </tr>\n",
       "  </thead>\n",
       "  <tbody>\n",
       "    <tr>\n",
       "      <th>mod1</th>\n",
       "      <td>0.497</td>\n",
       "      <td>0.493</td>\n",
       "      <td>0.885</td>\n",
       "      <td>0.495</td>\n",
       "    </tr>\n",
       "    <tr>\n",
       "      <th>mod0</th>\n",
       "      <td>0.488</td>\n",
       "      <td>0.495</td>\n",
       "      <td>0.885</td>\n",
       "      <td>0.491</td>\n",
       "    </tr>\n",
       "    <tr>\n",
       "      <th>mod2</th>\n",
       "      <td>0.445</td>\n",
       "      <td>0.475</td>\n",
       "      <td>0.881</td>\n",
       "      <td>0.460</td>\n",
       "    </tr>\n",
       "    <tr>\n",
       "      <th>mod4</th>\n",
       "      <td>0.445</td>\n",
       "      <td>0.464</td>\n",
       "      <td>0.879</td>\n",
       "      <td>0.454</td>\n",
       "    </tr>\n",
       "    <tr>\n",
       "      <th>mod3</th>\n",
       "      <td>0.446</td>\n",
       "      <td>0.462</td>\n",
       "      <td>0.878</td>\n",
       "      <td>0.454</td>\n",
       "    </tr>\n",
       "  </tbody>\n",
       "</table>\n",
       "</div>"
      ],
      "text/plain": [
       "metricas  recall  precision  accuracy    f1\n",
       "mod1       0.497      0.493     0.885 0.495\n",
       "mod0       0.488      0.495     0.885 0.491\n",
       "mod2       0.445      0.475     0.881 0.460\n",
       "mod4       0.445      0.464     0.879 0.454\n",
       "mod3       0.446      0.462     0.878 0.454"
      ]
     },
     "execution_count": 167,
     "metadata": {},
     "output_type": "execute_result"
    }
   ],
   "source": [
    "metricas_test.set_index('metricas').T.sort_values(by='f1', ascending = False)"
   ]
  },
  {
   "cell_type": "markdown",
   "metadata": {
    "id": "8d5a9915"
   },
   "source": [
    "Como vemos el árbol generó un overfitting. Las técnicas para evitar el sobre entrenamiento las veremos en otra sección, pero para anticiparnos unas ideas pueden ser bajar la profundidad en el arbol, trabajar con menos variables, pre-pruning, post-pruning, o considerar otros modelos."
   ]
  },
  {
   "cell_type": "markdown",
   "metadata": {},
   "source": [
    "## Regresión Logistica"
   ]
  },
  {
   "cell_type": "code",
   "execution_count": 169,
   "metadata": {},
   "outputs": [],
   "source": [
    "from sklearn.preprocessing import StandardScaler\n",
    "scaler = StandardScaler()\n",
    "scaler.fit(X)\n",
    "X1 = scaler.transform(X)\n",
    "X1 = pd.DataFrame(data = X1, columns= X.columns)"
   ]
  },
  {
   "cell_type": "code",
   "execution_count": 171,
   "metadata": {},
   "outputs": [
    {
     "name": "stdout",
     "output_type": "stream",
     "text": [
      "Tamaño del set de entrenamiento: (32695, 4)\n",
      "Tamaño del set de testeo: (8174, 4)\n"
     ]
    }
   ],
   "source": [
    "X_train, X_test, y_train, y_test = train_test_split(X1, y,\n",
    "                                                    test_size=0.2,\n",
    "                                                    random_state=33,\n",
    "                                                    stratify= y)\n",
    "\n",
    "\n",
    "\n",
    "print('Tamaño del set de entrenamiento:', X_train.shape)\n",
    "print('Tamaño del set de testeo:', X_test.shape)"
   ]
  },
  {
   "cell_type": "code",
   "execution_count": 172,
   "metadata": {},
   "outputs": [],
   "source": [
    "from sklearn.linear_model import LogisticRegression\n",
    "clf = LogisticRegression(random_state=0).fit(X_train, y_train)"
   ]
  },
  {
   "cell_type": "code",
   "execution_count": 173,
   "metadata": {},
   "outputs": [
    {
     "name": "stdout",
     "output_type": "stream",
     "text": [
      "              precision    recall  f1-score   support\n",
      "\n",
      "           0       0.89      1.00      0.94      7246\n",
      "           1       0.00      0.00      0.00       928\n",
      "\n",
      "    accuracy                           0.89      8174\n",
      "   macro avg       0.44      0.50      0.47      8174\n",
      "weighted avg       0.79      0.89      0.83      8174\n",
      "\n"
     ]
    }
   ],
   "source": [
    "y_pred = tree_model.predict(X_test)\n",
    "y_pred_train = tree_model.predict(X_train)\n",
    "print(classification_report(y_test, y_pred))"
   ]
  },
  {
   "cell_type": "code",
   "execution_count": 174,
   "metadata": {},
   "outputs": [
    {
     "data": {
      "image/png": "[encoded data removed]",
      "text/plain": [
       "<Figure size 576x360 with 1 Axes>"
      ]
     },
     "metadata": {
      "needs_background": "light"
     },
     "output_type": "display_data"
    }
   ],
   "source": [
    "plt.figure(figsize=(8,5))\n",
    "\n",
    "values = pd.Series(clf.coef_.flat)  \n",
    "\n",
    "sns.barplot(y=X1.columns,\n",
    "            x=values,\n",
    "           ).set(title='Importancia de Features para la predicción de Suscripción al producto')\n",
    "\n",
    "plt.show()"
   ]
  },
  {
   "cell_type": "code",
   "execution_count": null,
   "metadata": {},
   "outputs": [],
   "source": [
    "df.loc[((df.colesterol<30) & (df.ritmo>90)) | (df.hijos>10),'y'] = 0\n",
    "df.loc[df.colesterol>30,'y'] = 1\n",
    "df.loc[df.colesterol>90,'y'] = 2"
   ]
  }
 ],
 "metadata": {
  "colab": {
   "name": "AfterClass6_com19155_MSoledad.ipynb",
   "provenance": []
  },
  "kernelspec": {
   "display_name": "Python 3",
   "language": "python",
   "name": "python3"
  },
  "language_info": {
   "codemirror_mode": {
    "name": "ipython",
    "version": 3
   },
   "file_extension": ".py",
   "mimetype": "text/x-python",
   "name": "python",
   "nbconvert_exporter": "python",
   "pygments_lexer": "ipython3",
   "version": "3.8.3"
  }
 },
 "nbformat": 4,
 "nbformat_minor": 5
}
