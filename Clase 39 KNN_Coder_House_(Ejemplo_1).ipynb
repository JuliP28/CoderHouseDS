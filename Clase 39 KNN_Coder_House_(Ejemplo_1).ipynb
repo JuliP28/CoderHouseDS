{
  "cells": [
    {
      "cell_type": "markdown",
      "metadata": {
        "id": "MSPYghdeMUAK"
      },
      "source": [
        "Cargamos todas las librerías necesarias. Utilizaremos la clase KNeighborsClassifier, para poder usar el algoritmo KNN para problemas de clasificación."
      ]
    },
    {
      "cell_type": "code",
      "execution_count": 8,
      "metadata": {
        "id": "LK8WY90vMUAN"
      },
      "outputs": [],
      "source": [
        "import matplotlib.pyplot as plt\n",
        "import pandas as pd\n",
        "import seaborn as sns\n",
        "from sklearn.neighbors import KNeighborsClassifier"
      ]
    },
    {
      "cell_type": "markdown",
      "metadata": {
        "id": "h6VPWLyrMUAO"
      },
      "source": [
        "Primero crearemos unos datos de prueba, de los que sabemos la categoría y creamos un punto nuevo, del que no sabemos su género y visualizamos todos los puntos."
      ]
    },
    {
      "cell_type": "code",
      "execution_count": 2,
      "metadata": {
        "id": "JaOBg7LIMUAP"
      },
      "outputs": [],
      "source": [
        "data = {'Masa': [50, 80, 90, 45, 60],\n",
        "        'Altura': [1.48, 1.82, 1.85, 1.55, 1.60],\n",
        "        'Genero': ['m', 'h', 'h', 'm', 'm']}"
      ]
    },
    {
      "cell_type": "code",
      "execution_count": 3,
      "metadata": {
        "id": "jm4xR0KpMUAP"
      },
      "outputs": [],
      "source": [
        "punto_nuevo = {'Masa': [70],\n",
        "               'Altura': [1.82]}"
      ]
    },
    {
      "cell_type": "markdown",
      "metadata": {
        "id": "LRP_sP0zMUAQ"
      },
      "source": [
        "Convertimos a dataframe ..."
      ]
    },
    {
      "cell_type": "code",
      "execution_count": 9,
      "metadata": {
        "id": "1hsDqVjpMUAQ"
      },
      "outputs": [],
      "source": [
        "df = pd.DataFrame(data)\n",
        "punto_nuevo = pd.DataFrame(punto_nuevo)"
      ]
    },
    {
      "cell_type": "markdown",
      "metadata": {
        "id": "Jf_R1Kj1MUAR"
      },
      "source": [
        "Graficamos los puntos!"
      ]
    },
    {
      "cell_type": "code",
      "execution_count": 10,
      "metadata": {
        "colab": {
          "base_uri": "https://localhost:8080/",
          "height": 279
        },
        "id": "RVyVSfO-MUAR",
        "outputId": "1d707791-6ace-44ec-d9ad-be9ac5263dcf"
      },
      "outputs": [
        {
          "output_type": "display_data",
          "data": {
            "text/plain": [
              "<Figure size 432x288 with 1 Axes>"
            ],
            "image/png": "[encoded data removed]"
          },
          "metadata": {
            "needs_background": "light"
          }
        }
      ],
      "source": [
        "ax = plt.axes()\n",
        "\n",
        "ax.scatter(df.loc[df['Genero'] == 'h', 'Masa'],\n",
        "           df.loc[df['Genero'] == 'h', 'Altura'],\n",
        "           c=\"red\",\n",
        "           label=\"Hombre\")\n",
        "ax.scatter(df.loc[df['Genero'] == 'm', 'Masa'],\n",
        "           df.loc[df['Genero'] == 'm', 'Altura'],\n",
        "           c=\"blue\",\n",
        "           label=\"Mujer\")\n",
        "ax.scatter(punto_nuevo['Masa'],\n",
        "           punto_nuevo['Altura'],\n",
        "           c=\"black\")\n",
        "plt.xlabel(\"Masa\")\n",
        "plt.ylabel(\"Altura\")\n",
        "ax.legend()\n",
        "plt.show()"
      ]
    },
    {
      "cell_type": "markdown",
      "metadata": {
        "id": "XeXZyctNMUAS"
      },
      "source": [
        "A continuación entrenamos el algoritmo KNN con los datos para los que tenemos etiquetas. "
      ]
    },
    {
      "cell_type": "code",
      "execution_count": 11,
      "metadata": {
        "colab": {
          "base_uri": "https://localhost:8080/"
        },
        "id": "x99DI_sXMUAS",
        "outputId": "f592cfc5-27cd-4865-9ba8-f36680ee3c99"
      },
      "outputs": [
        {
          "output_type": "stream",
          "name": "stderr",
          "text": [
            "/usr/local/lib/python3.7/dist-packages/sklearn/neighbors/_classification.py:198: DataConversionWarning: A column-vector y was passed when a 1d array was expected. Please change the shape of y to (n_samples,), for example using ravel().\n",
            "  return self._fit(X, y)\n"
          ]
        },
        {
          "output_type": "execute_result",
          "data": {
            "text/plain": [
              "KNeighborsClassifier(n_neighbors=3)"
            ]
          },
          "metadata": {},
          "execution_count": 11
        }
      ],
      "source": [
        "from sklearn.neighbors import KNeighborsClassifier\n",
        "\n",
        "knn = KNeighborsClassifier(n_neighbors=3)\n",
        "X = df[['Masa', 'Altura']]\n",
        "y = df[['Genero']]\n",
        "\n",
        "knn.fit(X, y)"
      ]
    },
    {
      "cell_type": "code",
      "execution_count": 12,
      "metadata": {
        "colab": {
          "base_uri": "https://localhost:8080/"
        },
        "id": "KbZ8TTH-MUAT",
        "outputId": "b3a2f0e0-9c73-4c6e-9038-b8caf163fd2d"
      },
      "outputs": [
        {
          "output_type": "stream",
          "name": "stdout",
          "text": [
            "['h']\n"
          ]
        }
      ],
      "source": [
        "prediccion = knn.predict(punto_nuevo)\n",
        "print(prediccion)"
      ]
    }
  ],
  "metadata": {
    "kernelspec": {
      "display_name": "Python 3",
      "language": "python",
      "name": "python3"
    },
    "language_info": {
      "codemirror_mode": {
        "name": "ipython",
        "version": 3
      },
      "file_extension": ".py",
      "mimetype": "text/x-python",
      "name": "python",
      "nbconvert_exporter": "python",
      "pygments_lexer": "ipython3",
      "version": "3.8.5"
    },
    "varInspector": {
      "cols": {
        "lenName": 16,
        "lenType": 16,
        "lenVar": 40
      },
      "kernels_config": {
        "python": {
          "delete_cmd_postfix": "",
          "delete_cmd_prefix": "del ",
          "library": "var_list.py",
          "varRefreshCmd": "print(var_dic_list())"
        },
        "r": {
          "delete_cmd_postfix": ") ",
          "delete_cmd_prefix": "rm(",
          "library": "var_list.r",
          "varRefreshCmd": "cat(var_dic_list()) "
        }
      },
      "types_to_exclude": [
        "module",
        "function",
        "builtin_function_or_method",
        "instance",
        "_Feature"
      ],
      "window_display": false
    },
    "colab": {
      "name": "KNN - Coder House (Ejemplo 1).ipynb",
      "provenance": [],
      "toc_visible": true
    }
  },
  "nbformat": 4,
  "nbformat_minor": 0
}