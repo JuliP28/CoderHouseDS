{
  "cells": [
    {
      "cell_type": "markdown",
      "metadata": {
        "id": "GCZaH1FfUwcH"
      },
      "source": [
        "# Calculando el Silhouette Score"
      ]
    },
    {
      "cell_type": "code",
      "execution_count": 1,
      "metadata": {
        "id": "APtKWwinUwcL"
      },
      "outputs": [],
      "source": [
        "#Importamos las libreerías\n",
        "import pandas as pd\n",
        "import numpy as np\n",
        "import seaborn as sns\n",
        "from sklearn.cluster import KMeans\n",
        "from sklearn.metrics import silhouette_score\n",
        "%matplotlib inline"
      ]
    },
    {
      "cell_type": "code",
      "execution_count": 2,
      "metadata": {
        "id": "Hi4sBpAiUwcN"
      },
      "outputs": [],
      "source": [
        "#Generamos data aleatoria\n",
        "X= np.random.rand(50,2)\n",
        "Y= 2 + np.random.rand(50,2)\n",
        "Z= np.concatenate((X,Y))\n",
        "Z=pd.DataFrame(Z)"
      ]
    },
    {
      "cell_type": "code",
      "execution_count": 3,
      "metadata": {
        "colab": {
          "base_uri": "https://localhost:8080/",
          "height": 354
        },
        "id": "MY5koV_PUwcN",
        "outputId": "7f661fb6-a32d-45e0-fd62-7cfcdeebf9f9"
      },
      "outputs": [
        {
          "output_type": "stream",
          "name": "stderr",
          "text": [
            "/usr/local/lib/python3.7/dist-packages/seaborn/_decorators.py:43: FutureWarning: Pass the following variables as keyword args: x, y. From version 0.12, the only valid positional argument will be `data`, and passing other arguments without an explicit keyword will result in an error or misinterpretation.\n",
            "  FutureWarning\n"
          ]
        },
        {
          "output_type": "execute_result",
          "data": {
            "text/plain": [
              "<matplotlib.axes._subplots.AxesSubplot at 0x7f30b0713d50>"
            ]
          },
          "metadata": {},
          "execution_count": 3
        },
        {
          "output_type": "display_data",
          "data": {
            "text/plain": [
              "<Figure size 432x288 with 1 Axes>"
            ],
            "image/png": "[encoded data removed]"
          },
          "metadata": {
            "needs_background": "light"
          }
        }
      ],
      "source": [
        "#Ploteamos\n",
        "sns.scatterplot(Z[0],Z[1])"
      ]
    },
    {
      "cell_type": "code",
      "execution_count": 4,
      "metadata": {
        "id": "_eO1qvIOUwcO"
      },
      "outputs": [],
      "source": [
        "#Aplicamos K-Means con 2 clústers\n",
        "KMean= KMeans(n_clusters=2)\n",
        "KMean.fit(Z)\n",
        "label=KMean.predict(Z)"
      ]
    },
    {
      "cell_type": "code",
      "source": [
        "label"
      ],
      "metadata": {
        "colab": {
          "base_uri": "https://localhost:8080/"
        },
        "id": "e7QQX0iiXn1H",
        "outputId": "45d1e1dc-07e0-416a-cc19-e37a335f6a79"
      },
      "execution_count": 11,
      "outputs": [
        {
          "output_type": "execute_result",
          "data": {
            "text/plain": [
              "array([1, 1, 1, 1, 1, 1, 1, 1, 1, 1, 1, 1, 1, 1, 1, 1, 1, 1, 1, 1, 1, 1,\n",
              "       1, 1, 1, 1, 1, 1, 1, 1, 1, 1, 1, 1, 1, 1, 1, 1, 1, 1, 1, 1, 1, 1,\n",
              "       1, 1, 1, 1, 1, 1, 2, 0, 0, 2, 0, 2, 0, 2, 2, 2, 0, 0, 0, 2, 2, 0,\n",
              "       0, 0, 2, 2, 0, 2, 0, 2, 2, 2, 0, 2, 2, 2, 2, 2, 2, 0, 0, 0, 2, 0,\n",
              "       2, 0, 2, 2, 0, 2, 0, 0, 0, 2, 2, 0], dtype=int32)"
            ]
          },
          "metadata": {},
          "execution_count": 11
        }
      ]
    },
    {
      "cell_type": "code",
      "execution_count": 5,
      "metadata": {
        "colab": {
          "base_uri": "https://localhost:8080/"
        },
        "id": "EJfxb4PtUwcP",
        "outputId": "88c6f2b3-ff03-47d8-ceca-0813bbefbbe5"
      },
      "outputs": [
        {
          "output_type": "stream",
          "name": "stdout",
          "text": [
            "Silhouette Score(n=2): 0.8148567478576516\n"
          ]
        }
      ],
      "source": [
        "#Calculamos el Índice de Silhouette\n",
        "                                                #datos, #etiqueta (predict)\n",
        "print(f'Silhouette Score(n=2): {silhouette_score(Z, label)}')"
      ]
    },
    {
      "cell_type": "markdown",
      "metadata": {
        "id": "1a8dhuYHUwcP"
      },
      "source": [
        "**Insight**\n",
        "\n",
        "Podemos decir que los grupos están bien separados entre sí ya que la métrica de Silhouette nos arroja un resultado cercano a 1. Sin embargo, para comprobar si nuestra puntuación de silueta proporciona la información correcta o no, podemos crear otro diagrama de dispersión que muestre los puntos de datos etiquetados como se visualiza a continuación:"
      ]
    },
    {
      "cell_type": "code",
      "execution_count": 6,
      "metadata": {
        "colab": {
          "base_uri": "https://localhost:8080/",
          "height": 354
        },
        "id": "_vSVoXfqUwcQ",
        "outputId": "bd282455-729b-447d-c81d-68fc1b819b9f"
      },
      "outputs": [
        {
          "output_type": "stream",
          "name": "stderr",
          "text": [
            "/usr/local/lib/python3.7/dist-packages/seaborn/_decorators.py:43: FutureWarning: Pass the following variables as keyword args: x, y. From version 0.12, the only valid positional argument will be `data`, and passing other arguments without an explicit keyword will result in an error or misinterpretation.\n",
            "  FutureWarning\n"
          ]
        },
        {
          "output_type": "execute_result",
          "data": {
            "text/plain": [
              "<matplotlib.axes._subplots.AxesSubplot at 0x7f30966171d0>"
            ]
          },
          "metadata": {},
          "execution_count": 6
        },
        {
          "output_type": "display_data",
          "data": {
            "text/plain": [
              "<Figure size 432x288 with 1 Axes>"
            ],
            "image/png": "[encoded data removed]"
          },
          "metadata": {
            "needs_background": "light"
          }
        }
      ],
      "source": [
        "sns.scatterplot(Z[0],Z[1],hue=label)"
      ]
    },
    {
      "cell_type": "markdown",
      "metadata": {
        "id": "K7YccXqWUwcR"
      },
      "source": [
        "Como podemos observar, se aprecia claramente en la figura anterior que cada grupo está muy separado entre sí. Esto significa que es de esperarse que el valor obtenido para el índice de Silhouette sea un valor cercano a 1. "
      ]
    },
    {
      "cell_type": "markdown",
      "metadata": {
        "id": "j7qEEDG0UwcR"
      },
      "source": [
        "Probemos con 3 clúster a ver qué pasa ahora..."
      ]
    },
    {
      "cell_type": "code",
      "execution_count": 7,
      "metadata": {
        "id": "7tvloXHXUwcS"
      },
      "outputs": [],
      "source": [
        "KMean= KMeans(n_clusters=3)\n",
        "KMean.fit(Z)\n",
        "label=KMean.predict(Z)"
      ]
    },
    {
      "cell_type": "code",
      "execution_count": 8,
      "metadata": {
        "colab": {
          "base_uri": "https://localhost:8080/"
        },
        "id": "YdoaCYRrUwcS",
        "outputId": "6e869ebf-aac2-4df4-f245-ca8a0449da40"
      },
      "outputs": [
        {
          "output_type": "stream",
          "name": "stdout",
          "text": [
            "Silhouette Score(n=3): 0.597277613806895\n"
          ]
        }
      ],
      "source": [
        "#Calculamos el Índice de Silhouette\n",
        "print(f'Silhouette Score(n=3): {silhouette_score(Z, label)}')"
      ]
    },
    {
      "cell_type": "code",
      "execution_count": 9,
      "metadata": {
        "colab": {
          "base_uri": "https://localhost:8080/",
          "height": 354
        },
        "id": "1e_VsmlkUwcS",
        "outputId": "ab1dfbf6-b679-4c5c-8c55-f466cf2158c1"
      },
      "outputs": [
        {
          "output_type": "stream",
          "name": "stderr",
          "text": [
            "/usr/local/lib/python3.7/dist-packages/seaborn/_decorators.py:43: FutureWarning: Pass the following variables as keyword args: x, y. From version 0.12, the only valid positional argument will be `data`, and passing other arguments without an explicit keyword will result in an error or misinterpretation.\n",
            "  FutureWarning\n"
          ]
        },
        {
          "output_type": "execute_result",
          "data": {
            "text/plain": [
              "<matplotlib.axes._subplots.AxesSubplot at 0x7f3093114590>"
            ]
          },
          "metadata": {},
          "execution_count": 9
        },
        {
          "output_type": "display_data",
          "data": {
            "text/plain": [
              "<Figure size 432x288 with 1 Axes>"
            ],
            "image/png": "[encoded data removed]"
          },
          "metadata": {
            "needs_background": "light"
          }
        }
      ],
      "source": [
        "#Ploteamos\n",
        "sns.scatterplot(Z[0],Z[1],hue=label,palette='inferno_r')"
      ]
    },
    {
      "cell_type": "markdown",
      "metadata": {
        "id": "aAcODgy7UwcT"
      },
      "source": [
        "**Apreciaciones**\n",
        "\n",
        "Como podemos observar de la figura anterior, los grupos no están bien separados. La distancia entre grupos entre el grupo 1 y el grupo 2 es casi insignificante. Por eso la puntuación de silueta para n = 3 es menor que la de n = 2.\n",
        "\n",
        "Cuando se trata de dimensiones más altas, la puntuación de silueta es bastante útil para validar el funcionamiento del algoritmo de agrupamiento, ya que no podemos usar ningún tipo de visualización para validar el agrupamiento cuando las dimensiones son mayores que 3.\n",
        "\n",
        "También podemos usar la puntuación de silueta para verificar el número óptimo de clústeres. En el ejemplo anterior, podemos decir que el número óptimo de clústeres es 2 ya que su puntuación de silueta es mayor que la de 3 clústeres."
      ]
    }
  ],
  "metadata": {
    "kernelspec": {
      "display_name": "Python 3",
      "language": "python",
      "name": "python3"
    },
    "language_info": {
      "codemirror_mode": {
        "name": "ipython",
        "version": 3
      },
      "file_extension": ".py",
      "mimetype": "text/x-python",
      "name": "python",
      "nbconvert_exporter": "python",
      "pygments_lexer": "ipython3",
      "version": "3.8.5"
    },
    "varInspector": {
      "cols": {
        "lenName": 16,
        "lenType": 16,
        "lenVar": 40
      },
      "kernels_config": {
        "python": {
          "delete_cmd_postfix": "",
          "delete_cmd_prefix": "del ",
          "library": "var_list.py",
          "varRefreshCmd": "print(var_dic_list())"
        },
        "r": {
          "delete_cmd_postfix": ") ",
          "delete_cmd_prefix": "rm(",
          "library": "var_list.r",
          "varRefreshCmd": "cat(var_dic_list()) "
        }
      },
      "types_to_exclude": [
        "module",
        "function",
        "builtin_function_or_method",
        "instance",
        "_Feature"
      ],
      "window_display": false
    },
    "colab": {
      "name": "Clustering - Ejemplo 1 (Silhouette).ipynb",
      "provenance": [],
      "toc_visible": true
    }
  },
  "nbformat": 4,
  "nbformat_minor": 0
}