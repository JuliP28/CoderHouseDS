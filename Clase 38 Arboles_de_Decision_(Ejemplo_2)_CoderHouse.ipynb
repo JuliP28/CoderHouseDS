{
  "cells": [
    {
      "cell_type": "code",
      "execution_count": 1,
      "metadata": {
        "id": "lUzQqXYwznNW"
      },
      "outputs": [],
      "source": [
        "#Se importan la librerias a utilizar\n",
        "from sklearn import datasets\n",
        "import pandas as pd"
      ]
    },
    {
      "cell_type": "code",
      "execution_count": 2,
      "metadata": {
        "scrolled": true,
        "id": "3SCyBS1pznNY"
      },
      "outputs": [],
      "source": [
        "#Importamos los datos de la misma librería de scikit-learn\n",
        "dataset = datasets.load_breast_cancer()"
      ]
    },
    {
      "cell_type": "code",
      "execution_count": 3,
      "metadata": {
        "id": "-moTwIPjznNZ"
      },
      "outputs": [],
      "source": [
        "#Seleccionamos todas las columnas\n",
        "X = dataset.data\n",
        "#Defino los datos correspondientes a las etiquetas\n",
        "y = dataset.target"
      ]
    },
    {
      "cell_type": "code",
      "execution_count": 4,
      "metadata": {
        "id": "sHwlesSjznNa"
      },
      "outputs": [],
      "source": [
        "#Separamos en train y test\n",
        "from sklearn.model_selection import train_test_split"
      ]
    },
    {
      "cell_type": "code",
      "execution_count": 5,
      "metadata": {
        "id": "Bfk7jcLEznNa"
      },
      "outputs": [],
      "source": [
        "#Separo los datos de \"train\" en entrenamiento y prueba para probar los algoritmos\n",
        "X_train, X_test, y_train, y_test = train_test_split(X, y, test_size=0.3, random_state=42)"
      ]
    },
    {
      "cell_type": "markdown",
      "source": [
        "# Paso 1: Modelo"
      ],
      "metadata": {
        "id": "ySGbN7ui7wyc"
      }
    },
    {
      "cell_type": "code",
      "execution_count": 6,
      "metadata": {
        "id": "wIkFv87BznNa"
      },
      "outputs": [],
      "source": [
        "#Arbol de decisión\n",
        "from sklearn.tree import DecisionTreeClassifier\n",
        "algoritmo = DecisionTreeClassifier(max_depth=2, random_state = 42)"
      ]
    },
    {
      "cell_type": "markdown",
      "source": [
        "# Paso 2 : Entrenamiento"
      ],
      "metadata": {
        "id": "y4jne2Hw7z1y"
      }
    },
    {
      "cell_type": "code",
      "execution_count": 7,
      "metadata": {
        "colab": {
          "base_uri": "https://localhost:8080/"
        },
        "id": "7xHGiphxznNb",
        "outputId": "d2d95570-c08c-4cb6-ee27-5526cfb50d32"
      },
      "outputs": [
        {
          "output_type": "execute_result",
          "data": {
            "text/plain": [
              "DecisionTreeClassifier(max_depth=2, random_state=42)"
            ]
          },
          "metadata": {},
          "execution_count": 7
        }
      ],
      "source": [
        "#Entrenamos el modelo\n",
        "algoritmo.fit(X_train, y_train)"
      ]
    },
    {
      "cell_type": "markdown",
      "source": [
        "# Paso 3 : Predecir"
      ],
      "metadata": {
        "id": "09mNLg0r73Va"
      }
    },
    {
      "cell_type": "code",
      "execution_count": 8,
      "metadata": {
        "id": "AWTTf4hPznNd"
      },
      "outputs": [],
      "source": [
        "#Realizo una predicción\n",
        "y_train_pred = algoritmo.predict(X_train) #Prediccion en Train\n",
        "y_test_pred = algoritmo.predict(X_test) #Prediccion en Test"
      ]
    },
    {
      "cell_type": "code",
      "execution_count": 9,
      "metadata": {
        "colab": {
          "base_uri": "https://localhost:8080/"
        },
        "id": "xYSDUI5YznNd",
        "outputId": "fef7ae68-cb40-467c-8a8c-8dbf77498309"
      },
      "outputs": [
        {
          "output_type": "stream",
          "name": "stdout",
          "text": [
            "Matriz de Confusión:\n",
            "[[ 57   6]\n",
            " [  6 102]]\n"
          ]
        }
      ],
      "source": [
        "#Creamos la matriz de confusión\n",
        "from sklearn.metrics import confusion_matrix\n",
        "matriz = confusion_matrix(y_test, y_test_pred)\n",
        "print('Matriz de Confusión:')\n",
        "print(matriz)"
      ]
    },
    {
      "cell_type": "code",
      "execution_count": 10,
      "metadata": {
        "colab": {
          "base_uri": "https://localhost:8080/"
        },
        "id": "mEqaFKiwznNe",
        "outputId": "10e08491-3386-4896-ff47-b18e588ccea6"
      },
      "outputs": [
        {
          "output_type": "stream",
          "name": "stdout",
          "text": [
            "% de aciertos sobre el set de entrenamiento: 0.9422110552763819\n",
            "% de aciertos sobre el set de evaluación: 0.9298245614035088\n"
          ]
        }
      ],
      "source": [
        "from sklearn.metrics import accuracy_score\n",
        "\n",
        "#Calculo el accuracy en Train\n",
        "train_accuracy = accuracy_score(y_train, y_train_pred)\n",
        "\n",
        "#Calculo el accuracy en Test\n",
        "test_accuracy = accuracy_score(y_test, y_test_pred)\n",
        "\n",
        "print('% de aciertos sobre el set de entrenamiento:', train_accuracy)\n",
        "print('% de aciertos sobre el set de evaluación:',test_accuracy)"
      ]
    }
  ],
  "metadata": {
    "kernelspec": {
      "display_name": "Python 3",
      "language": "python",
      "name": "python3"
    },
    "language_info": {
      "codemirror_mode": {
        "name": "ipython",
        "version": 3
      },
      "file_extension": ".py",
      "mimetype": "text/x-python",
      "name": "python",
      "nbconvert_exporter": "python",
      "pygments_lexer": "ipython3",
      "version": "3.8.5"
    },
    "varInspector": {
      "cols": {
        "lenName": 16,
        "lenType": 16,
        "lenVar": 40
      },
      "kernels_config": {
        "python": {
          "delete_cmd_postfix": "",
          "delete_cmd_prefix": "del ",
          "library": "var_list.py",
          "varRefreshCmd": "print(var_dic_list())"
        },
        "r": {
          "delete_cmd_postfix": ") ",
          "delete_cmd_prefix": "rm(",
          "library": "var_list.r",
          "varRefreshCmd": "cat(var_dic_list()) "
        }
      },
      "types_to_exclude": [
        "module",
        "function",
        "builtin_function_or_method",
        "instance",
        "_Feature"
      ],
      "window_display": false
    },
    "colab": {
      "name": "Arboles de Decision (Ejemplo 2) - CoderHouse.ipynb",
      "provenance": [],
      "toc_visible": true
    }
  },
  "nbformat": 4,
  "nbformat_minor": 0
}